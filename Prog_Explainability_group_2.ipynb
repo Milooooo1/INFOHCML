{
  "cells": [
    {
      "cell_type": "markdown",
      "metadata": {
        "id": "OMSxpJAkqYzk"
      },
      "source": [
        "# Programming Assignment II: Explainability\n",
        "\n",
        "In this assignment you will train machine learning models and experiment with techniques discussed in the lectures.\n",
        "This assignment makes use of existing Python libraries for some questions. We have provided links to tutorials/examples if you're not familiar with them yet.\n",
        "\n",
        "All code that you implement should be in this notebook. You should submit:\n",
        "* This notebook with your code added. Make sure to add enough documentation. Also provide complete answers to the more theoretical questions in this notebook. These questions are followed by an 'answer indent':\n",
        "> Answer:\n",
        "\n",
        "The notebook .ipynb should have the name format `Prog_Explainability_Group_X.ipynb`, where X is your programming group ID.\n",
        "\n",
        "Important notes:\n",
        "* Deadline for this assignment is **Monday, June 3, 17:00**.\n",
        "* Send it to both Mart Koek (m.j.koek@uu.nl) and Heysem Kaya (h.kaya@uu.nl), CCing your programming partner.\n",
        "* Title of the email: [INFOMHCML] Explainability programming assignment submission X, with X the number of your group.\n",
        "* There will be a lab session to assist you with the assignment on **Thursday, May 30, between 13:15-15:00 at DALTON 500 - 6.27 and DALTON 500 - 7.27**."
      ]
    },
    {
      "cell_type": "markdown",
      "metadata": {
        "id": "moyaViIx8WzS"
      },
      "source": [
        "### Installation\n",
        "\n",
        "For this assignment, we are going to use the following Python packages:\n",
        "graphviz, matplotlib, pandas, statsmodels, openpyxl, interpret, and scikit-learn."
      ]
    },
    {
      "cell_type": "code",
      "execution_count": 1,
      "metadata": {
        "id": "6EaC6P7RqXOh"
      },
      "outputs": [
        {
          "name": "stdout",
          "output_type": "stream",
          "text": [
            "Requirement already satisfied: graphviz in c:\\users\\x1 yoga\\appdata\\local\\programs\\python\\python310\\lib\\site-packages (0.20.1)\n"
          ]
        },
        {
          "name": "stderr",
          "output_type": "stream",
          "text": [
            "DEPRECATION: torchsde 0.2.5 has a non-standard dependency specifier numpy>=1.19.*; python_version >= \"3.7\". pip 24.1 will enforce this behaviour change. A possible replacement is to upgrade to a newer version of torchsde or contact the author to suggest that they release a version with a conforming dependency specifiers. Discussion can be found at https://github.com/pypa/pip/issues/12063\n"
          ]
        },
        {
          "name": "stdout",
          "output_type": "stream",
          "text": [
            "Requirement already satisfied: matplotlib in c:\\users\\x1 yoga\\appdata\\local\\programs\\python\\python310\\lib\\site-packages (3.7.1)"
          ]
        },
        {
          "name": "stderr",
          "output_type": "stream",
          "text": [
            "DEPRECATION: torchsde 0.2.5 has a non-standard dependency specifier numpy>=1.19.*; python_version >= \"3.7\". pip 24.1 will enforce this behaviour change. A possible replacement is to upgrade to a newer version of torchsde or contact the author to suggest that they release a version with a conforming dependency specifiers. Discussion can be found at https://github.com/pypa/pip/issues/12063\n"
          ]
        },
        {
          "name": "stdout",
          "output_type": "stream",
          "text": [
            "\n",
            "Requirement already satisfied: pandas in c:\\users\\x1 yoga\\appdata\\local\\programs\\python\\python310\\lib\\site-packages (2.2.1)\n",
            "Requirement already satisfied: statsmodels in c:\\users\\x1 yoga\\appdata\\local\\programs\\python\\python310\\lib\\site-packages (0.14.1)\n",
            "Requirement already satisfied: openpyxl in c:\\users\\x1 yoga\\appdata\\local\\programs\\python\\python310\\lib\\site-packages (3.1.2)\n",
            "Requirement already satisfied: contourpy>=1.0.1 in c:\\users\\x1 yoga\\appdata\\local\\programs\\python\\python310\\lib\\site-packages (from matplotlib) (1.1.1)\n",
            "Requirement already satisfied: cycler>=0.10 in c:\\users\\x1 yoga\\appdata\\local\\programs\\python\\python310\\lib\\site-packages (from matplotlib) (0.11.0)\n",
            "Requirement already satisfied: fonttools>=4.22.0 in c:\\users\\x1 yoga\\appdata\\local\\programs\\python\\python310\\lib\\site-packages (from matplotlib) (4.42.1)\n",
            "Requirement already satisfied: kiwisolver>=1.0.1 in c:\\users\\x1 yoga\\appdata\\local\\programs\\python\\python310\\lib\\site-packages (from matplotlib) (1.4.5)\n",
            "Requirement already satisfied: numpy>=1.20 in c:\\users\\x1 yoga\\appdata\\local\\programs\\python\\python310\\lib\\site-packages (from matplotlib) (1.24.3)\n",
            "Requirement already satisfied: packaging>=20.0 in c:\\users\\x1 yoga\\appdata\\local\\programs\\python\\python310\\lib\\site-packages (from matplotlib) (23.1)\n",
            "Requirement already satisfied: pillow>=6.2.0 in c:\\users\\x1 yoga\\appdata\\local\\programs\\python\\python310\\lib\\site-packages (from matplotlib) (10.0.1)\n",
            "Requirement already satisfied: pyparsing>=2.3.1 in c:\\users\\x1 yoga\\appdata\\local\\programs\\python\\python310\\lib\\site-packages (from matplotlib) (3.1.1)\n",
            "Requirement already satisfied: python-dateutil>=2.7 in c:\\users\\x1 yoga\\appdata\\local\\programs\\python\\python310\\lib\\site-packages (from matplotlib) (2.8.2)\n",
            "Requirement already satisfied: pytz>=2020.1 in c:\\users\\x1 yoga\\appdata\\local\\programs\\python\\python310\\lib\\site-packages (from pandas) (2023.3.post1)\n",
            "Requirement already satisfied: tzdata>=2022.7 in c:\\users\\x1 yoga\\appdata\\local\\programs\\python\\python310\\lib\\site-packages (from pandas) (2023.3)\n",
            "Requirement already satisfied: scipy!=1.9.2,>=1.4 in c:\\users\\x1 yoga\\appdata\\local\\programs\\python\\python310\\lib\\site-packages (from statsmodels) (1.11.2)\n",
            "Requirement already satisfied: patsy>=0.5.4 in c:\\users\\x1 yoga\\appdata\\local\\programs\\python\\python310\\lib\\site-packages (from statsmodels) (0.5.6)\n",
            "Requirement already satisfied: et-xmlfile in c:\\users\\x1 yoga\\appdata\\local\\programs\\python\\python310\\lib\\site-packages (from openpyxl) (1.1.0)\n",
            "Requirement already satisfied: six in c:\\users\\x1 yoga\\appdata\\local\\programs\\python\\python310\\lib\\site-packages (from patsy>=0.5.4->statsmodels) (1.15.0)\n",
            "Collecting interpret\n",
            "  Downloading interpret-0.6.1-py3-none-any.whl.metadata (1.1 kB)\n",
            "Collecting interpret-core==0.6.1 (from interpret-core[dash,debug,linear,notebook,plotly,sensitivity,shap]==0.6.1->interpret)\n",
            "  Downloading interpret_core-0.6.1-py3-none-any.whl.metadata (2.8 kB)\n",
            "Requirement already satisfied: numpy>=1.11.1 in c:\\users\\x1 yoga\\appdata\\local\\programs\\python\\python310\\lib\\site-packages (from interpret-core==0.6.1->interpret-core[dash,debug,linear,notebook,plotly,sensitivity,shap]==0.6.1->interpret) (1.24.3)\n",
            "Requirement already satisfied: scipy>=0.18.1 in c:\\users\\x1 yoga\\appdata\\local\\programs\\python\\python310\\lib\\site-packages (from interpret-core==0.6.1->interpret-core[dash,debug,linear,notebook,plotly,sensitivity,shap]==0.6.1->interpret) (1.11.2)\n",
            "Requirement already satisfied: pandas>=0.19.2 in c:\\users\\x1 yoga\\appdata\\local\\programs\\python\\python310\\lib\\site-packages (from interpret-core==0.6.1->interpret-core[dash,debug,linear,notebook,plotly,sensitivity,shap]==0.6.1->interpret) (2.2.1)\n",
            "Requirement already satisfied: scikit-learn>=0.18.1 in c:\\users\\x1 yoga\\appdata\\local\\programs\\python\\python310\\lib\\site-packages (from interpret-core==0.6.1->interpret-core[dash,debug,linear,notebook,plotly,sensitivity,shap]==0.6.1->interpret) (1.2.2)\n",
            "Requirement already satisfied: joblib>=0.11 in c:\\users\\x1 yoga\\appdata\\local\\programs\\python\\python310\\lib\\site-packages (from interpret-core==0.6.1->interpret-core[dash,debug,linear,notebook,plotly,sensitivity,shap]==0.6.1->interpret) (1.2.0)\n",
            "Requirement already satisfied: psutil>=5.6.2 in c:\\users\\x1 yoga\\appdata\\local\\programs\\python\\python310\\lib\\site-packages (from interpret-core[dash,debug,linear,notebook,plotly,sensitivity,shap]==0.6.1->interpret) (5.9.5)\n",
            "Collecting shap>=0.28.5 (from interpret-core[dash,debug,linear,notebook,plotly,sensitivity,shap]==0.6.1->interpret)\n",
            "  Downloading shap-0.45.1-cp310-cp310-win_amd64.whl.metadata (25 kB)\n",
            "Requirement already satisfied: dill>=0.2.5 in c:\\users\\x1 yoga\\appdata\\local\\programs\\python\\python310\\lib\\site-packages (from interpret-core[dash,debug,linear,notebook,plotly,sensitivity,shap]==0.6.1->interpret) (0.3.7)\n",
            "Collecting dash>=1.0.0 (from interpret-core[dash,debug,linear,notebook,plotly,sensitivity,shap]==0.6.1->interpret)\n",
            "  Downloading dash-2.17.0-py3-none-any.whl.metadata (10 kB)\n",
            "Collecting dash-core-components>=1.0.0 (from interpret-core[dash,debug,linear,notebook,plotly,sensitivity,shap]==0.6.1->interpret)\n",
            "  Downloading dash_core_components-2.0.0-py3-none-any.whl.metadata (2.9 kB)\n",
            "Collecting dash-html-components>=1.0.0 (from interpret-core[dash,debug,linear,notebook,plotly,sensitivity,shap]==0.6.1->interpret)\n",
            "  Downloading dash_html_components-2.0.0-py3-none-any.whl.metadata (3.8 kB)\n",
            "Collecting dash-table>=4.1.0 (from interpret-core[dash,debug,linear,notebook,plotly,sensitivity,shap]==0.6.1->interpret)\n",
            "  Downloading dash_table-5.0.0-py3-none-any.whl.metadata (2.4 kB)\n",
            "Collecting dash-cytoscape>=0.1.1 (from interpret-core[dash,debug,linear,notebook,plotly,sensitivity,shap]==0.6.1->interpret)\n",
            "  Downloading dash_cytoscape-1.0.0-py3-none-any.whl.metadata (8.1 kB)\n",
            "Requirement already satisfied: gevent>=1.3.6 in c:\\users\\x1 yoga\\appdata\\local\\programs\\python\\python310\\lib\\site-packages (from interpret-core[dash,debug,linear,notebook,plotly,sensitivity,shap]==0.6.1->interpret) (24.2.1)\n",
            "Requirement already satisfied: requests>=2.19.0 in c:\\users\\x1 yoga\\appdata\\roaming\\python\\python310\\site-packages (from interpret-core[dash,debug,linear,notebook,plotly,sensitivity,shap]==0.6.1->interpret) (2.31.0)\n",
            "Collecting SALib>=1.3.3 (from interpret-core[dash,debug,linear,notebook,plotly,sensitivity,shap]==0.6.1->interpret)\n",
            "  Downloading salib-1.5.0-py3-none-any.whl.metadata (11 kB)\n",
            "Collecting plotly>=3.8.1 (from interpret-core[dash,debug,linear,notebook,plotly,sensitivity,shap]==0.6.1->interpret)\n",
            "  Downloading plotly-5.22.0-py3-none-any.whl.metadata (7.1 kB)\n",
            "Requirement already satisfied: ipykernel>=4.10.0 in c:\\users\\x1 yoga\\appdata\\roaming\\python\\python310\\site-packages (from interpret-core[dash,debug,linear,notebook,plotly,sensitivity,shap]==0.6.1->interpret) (6.26.0)\n",
            "Requirement already satisfied: ipython>=5.5.0 in c:\\users\\x1 yoga\\appdata\\roaming\\python\\python310\\site-packages (from interpret-core[dash,debug,linear,notebook,plotly,sensitivity,shap]==0.6.1->interpret) (8.16.1)\n",
            "Requirement already satisfied: Flask<3.1,>=1.0.4 in c:\\users\\x1 yoga\\appdata\\local\\programs\\python\\python310\\lib\\site-packages (from dash>=1.0.0->interpret-core[dash,debug,linear,notebook,plotly,sensitivity,shap]==0.6.1->interpret) (2.3.3)\n",
            "Requirement already satisfied: Werkzeug<3.1 in c:\\users\\x1 yoga\\appdata\\local\\programs\\python\\python310\\lib\\site-packages (from dash>=1.0.0->interpret-core[dash,debug,linear,notebook,plotly,sensitivity,shap]==0.6.1->interpret) (2.3.7)\n",
            "Collecting importlib-metadata (from dash>=1.0.0->interpret-core[dash,debug,linear,notebook,plotly,sensitivity,shap]==0.6.1->interpret)\n",
            "  Downloading importlib_metadata-7.1.0-py3-none-any.whl.metadata (4.7 kB)\n",
            "Requirement already satisfied: typing-extensions>=4.1.1 in c:\\users\\x1 yoga\\appdata\\local\\programs\\python\\python310\\lib\\site-packages (from dash>=1.0.0->interpret-core[dash,debug,linear,notebook,plotly,sensitivity,shap]==0.6.1->interpret) (4.8.0)\n",
            "Collecting retrying (from dash>=1.0.0->interpret-core[dash,debug,linear,notebook,plotly,sensitivity,shap]==0.6.1->interpret)\n",
            "  Downloading retrying-1.3.4-py3-none-any.whl.metadata (6.9 kB)\n",
            "Requirement already satisfied: nest-asyncio in c:\\users\\x1 yoga\\appdata\\roaming\\python\\python310\\site-packages (from dash>=1.0.0->interpret-core[dash,debug,linear,notebook,plotly,sensitivity,shap]==0.6.1->interpret) (1.5.8)\n",
            "Requirement already satisfied: setuptools in c:\\users\\x1 yoga\\appdata\\local\\programs\\python\\python310\\lib\\site-packages (from dash>=1.0.0->interpret-core[dash,debug,linear,notebook,plotly,sensitivity,shap]==0.6.1->interpret) (63.2.0)\n",
            "Requirement already satisfied: zope.event in c:\\users\\x1 yoga\\appdata\\local\\programs\\python\\python310\\lib\\site-packages (from gevent>=1.3.6->interpret-core[dash,debug,linear,notebook,plotly,sensitivity,shap]==0.6.1->interpret) (5.0)\n",
            "Requirement already satisfied: zope.interface in c:\\users\\x1 yoga\\appdata\\local\\programs\\python\\python310\\lib\\site-packages (from gevent>=1.3.6->interpret-core[dash,debug,linear,notebook,plotly,sensitivity,shap]==0.6.1->interpret) (6.2)\n",
            "Requirement already satisfied: greenlet>=2.0.0 in c:\\users\\x1 yoga\\appdata\\local\\programs\\python\\python310\\lib\\site-packages (from gevent>=1.3.6->interpret-core[dash,debug,linear,notebook,plotly,sensitivity,shap]==0.6.1->interpret) (3.0.3)\n",
            "Requirement already satisfied: cffi>=1.12.2 in c:\\users\\x1 yoga\\appdata\\local\\programs\\python\\python310\\lib\\site-packages (from gevent>=1.3.6->interpret-core[dash,debug,linear,notebook,plotly,sensitivity,shap]==0.6.1->interpret) (1.15.1)\n",
            "Requirement already satisfied: comm>=0.1.1 in c:\\users\\x1 yoga\\appdata\\roaming\\python\\python310\\site-packages (from ipykernel>=4.10.0->interpret-core[dash,debug,linear,notebook,plotly,sensitivity,shap]==0.6.1->interpret) (0.1.4)\n",
            "Requirement already satisfied: debugpy>=1.6.5 in c:\\users\\x1 yoga\\appdata\\roaming\\python\\python310\\site-packages (from ipykernel>=4.10.0->interpret-core[dash,debug,linear,notebook,plotly,sensitivity,shap]==0.6.1->interpret) (1.8.0)\n",
            "Requirement already satisfied: jupyter-client>=6.1.12 in c:\\users\\x1 yoga\\appdata\\roaming\\python\\python310\\site-packages (from ipykernel>=4.10.0->interpret-core[dash,debug,linear,notebook,plotly,sensitivity,shap]==0.6.1->interpret) (7.4.9)\n",
            "Requirement already satisfied: jupyter-core!=5.0.*,>=4.12 in c:\\users\\x1 yoga\\appdata\\roaming\\python\\python310\\site-packages (from ipykernel>=4.10.0->interpret-core[dash,debug,linear,notebook,plotly,sensitivity,shap]==0.6.1->interpret) (5.4.0)\n",
            "Requirement already satisfied: matplotlib-inline>=0.1 in c:\\users\\x1 yoga\\appdata\\roaming\\python\\python310\\site-packages (from ipykernel>=4.10.0->interpret-core[dash,debug,linear,notebook,plotly,sensitivity,shap]==0.6.1->interpret) (0.1.6)\n",
            "Requirement already satisfied: packaging in c:\\users\\x1 yoga\\appdata\\local\\programs\\python\\python310\\lib\\site-packages (from ipykernel>=4.10.0->interpret-core[dash,debug,linear,notebook,plotly,sensitivity,shap]==0.6.1->interpret) (23.1)\n",
            "Requirement already satisfied: pyzmq>=20 in c:\\users\\x1 yoga\\appdata\\roaming\\python\\python310\\site-packages (from ipykernel>=4.10.0->interpret-core[dash,debug,linear,notebook,plotly,sensitivity,shap]==0.6.1->interpret) (24.0.1)\n",
            "Requirement already satisfied: tornado>=6.1 in c:\\users\\x1 yoga\\appdata\\roaming\\python\\python310\\site-packages (from ipykernel>=4.10.0->interpret-core[dash,debug,linear,notebook,plotly,sensitivity,shap]==0.6.1->interpret) (6.3.3)\n",
            "Requirement already satisfied: traitlets>=5.4.0 in c:\\users\\x1 yoga\\appdata\\roaming\\python\\python310\\site-packages (from ipykernel>=4.10.0->interpret-core[dash,debug,linear,notebook,plotly,sensitivity,shap]==0.6.1->interpret) (5.12.0)\n",
            "Requirement already satisfied: backcall in c:\\users\\x1 yoga\\appdata\\roaming\\python\\python310\\site-packages (from ipython>=5.5.0->interpret-core[dash,debug,linear,notebook,plotly,sensitivity,shap]==0.6.1->interpret) (0.2.0)\n",
            "Requirement already satisfied: decorator in c:\\users\\x1 yoga\\appdata\\local\\programs\\python\\python310\\lib\\site-packages (from ipython>=5.5.0->interpret-core[dash,debug,linear,notebook,plotly,sensitivity,shap]==0.6.1->interpret) (5.1.1)\n",
            "Requirement already satisfied: jedi>=0.16 in c:\\users\\x1 yoga\\appdata\\roaming\\python\\python310\\site-packages (from ipython>=5.5.0->interpret-core[dash,debug,linear,notebook,plotly,sensitivity,shap]==0.6.1->interpret) (0.19.1)\n",
            "Requirement already satisfied: pickleshare in c:\\users\\x1 yoga\\appdata\\roaming\\python\\python310\\site-packages (from ipython>=5.5.0->interpret-core[dash,debug,linear,notebook,plotly,sensitivity,shap]==0.6.1->interpret) (0.7.5)\n",
            "Requirement already satisfied: prompt-toolkit!=3.0.37,<3.1.0,>=3.0.30 in c:\\users\\x1 yoga\\appdata\\roaming\\python\\python310\\site-packages (from ipython>=5.5.0->interpret-core[dash,debug,linear,notebook,plotly,sensitivity,shap]==0.6.1->interpret) (3.0.39)\n",
            "Requirement already satisfied: pygments>=2.4.0 in c:\\users\\x1 yoga\\appdata\\roaming\\python\\python310\\site-packages (from ipython>=5.5.0->interpret-core[dash,debug,linear,notebook,plotly,sensitivity,shap]==0.6.1->interpret) (2.16.1)\n",
            "Requirement already satisfied: stack-data in c:\\users\\x1 yoga\\appdata\\roaming\\python\\python310\\site-packages (from ipython>=5.5.0->interpret-core[dash,debug,linear,notebook,plotly,sensitivity,shap]==0.6.1->interpret) (0.6.3)\n",
            "Requirement already satisfied: exceptiongroup in c:\\users\\x1 yoga\\appdata\\roaming\\python\\python310\\site-packages (from ipython>=5.5.0->interpret-core[dash,debug,linear,notebook,plotly,sensitivity,shap]==0.6.1->interpret) (1.1.3)\n",
            "Requirement already satisfied: colorama in c:\\users\\x1 yoga\\appdata\\local\\programs\\python\\python310\\lib\\site-packages (from ipython>=5.5.0->interpret-core[dash,debug,linear,notebook,plotly,sensitivity,shap]==0.6.1->interpret) (0.4.6)\n",
            "Requirement already satisfied: python-dateutil>=2.8.2 in c:\\users\\x1 yoga\\appdata\\local\\programs\\python\\python310\\lib\\site-packages (from pandas>=0.19.2->interpret-core==0.6.1->interpret-core[dash,debug,linear,notebook,plotly,sensitivity,shap]==0.6.1->interpret) (2.8.2)\n",
            "Requirement already satisfied: pytz>=2020.1 in c:\\users\\x1 yoga\\appdata\\local\\programs\\python\\python310\\lib\\site-packages (from pandas>=0.19.2->interpret-core==0.6.1->interpret-core[dash,debug,linear,notebook,plotly,sensitivity,shap]==0.6.1->interpret) (2023.3.post1)\n",
            "Requirement already satisfied: tzdata>=2022.7 in c:\\users\\x1 yoga\\appdata\\local\\programs\\python\\python310\\lib\\site-packages (from pandas>=0.19.2->interpret-core==0.6.1->interpret-core[dash,debug,linear,notebook,plotly,sensitivity,shap]==0.6.1->interpret) (2023.3)\n",
            "Collecting tenacity>=6.2.0 (from plotly>=3.8.1->interpret-core[dash,debug,linear,notebook,plotly,sensitivity,shap]==0.6.1->interpret)\n",
            "  Downloading tenacity-8.3.0-py3-none-any.whl.metadata (1.2 kB)\n",
            "Requirement already satisfied: charset-normalizer<4,>=2 in c:\\users\\x1 yoga\\appdata\\local\\programs\\python\\python310\\lib\\site-packages (from requests>=2.19.0->interpret-core[dash,debug,linear,notebook,plotly,sensitivity,shap]==0.6.1->interpret) (2.1.1)\n",
            "Requirement already satisfied: idna<4,>=2.5 in c:\\users\\x1 yoga\\appdata\\local\\programs\\python\\python310\\lib\\site-packages (from requests>=2.19.0->interpret-core[dash,debug,linear,notebook,plotly,sensitivity,shap]==0.6.1->interpret) (3.3)\n",
            "Requirement already satisfied: urllib3<3,>=1.21.1 in c:\\users\\x1 yoga\\appdata\\local\\programs\\python\\python310\\lib\\site-packages (from requests>=2.19.0->interpret-core[dash,debug,linear,notebook,plotly,sensitivity,shap]==0.6.1->interpret) (1.26.12)\n",
            "Requirement already satisfied: certifi>=2017.4.17 in c:\\users\\x1 yoga\\appdata\\local\\programs\\python\\python310\\lib\\site-packages (from requests>=2.19.0->interpret-core[dash,debug,linear,notebook,plotly,sensitivity,shap]==0.6.1->interpret) (2022.6.15.1)\n",
            "Requirement already satisfied: matplotlib>=3.5 in c:\\users\\x1 yoga\\appdata\\local\\programs\\python\\python310\\lib\\site-packages (from SALib>=1.3.3->interpret-core[dash,debug,linear,notebook,plotly,sensitivity,shap]==0.6.1->interpret) (3.7.1)\n",
            "Requirement already satisfied: multiprocess in c:\\users\\x1 yoga\\appdata\\local\\programs\\python\\python310\\lib\\site-packages (from SALib>=1.3.3->interpret-core[dash,debug,linear,notebook,plotly,sensitivity,shap]==0.6.1->interpret) (0.70.15)\n",
            "Requirement already satisfied: threadpoolctl>=2.0.0 in c:\\users\\x1 yoga\\appdata\\local\\programs\\python\\python310\\lib\\site-packages (from scikit-learn>=0.18.1->interpret-core==0.6.1->interpret-core[dash,debug,linear,notebook,plotly,sensitivity,shap]==0.6.1->interpret) (3.2.0)\n",
            "Requirement already satisfied: tqdm>=4.27.0 in c:\\users\\x1 yoga\\appdata\\local\\programs\\python\\python310\\lib\\site-packages (from shap>=0.28.5->interpret-core[dash,debug,linear,notebook,plotly,sensitivity,shap]==0.6.1->interpret) (4.64.1)\n",
            "Collecting slicer==0.0.8 (from shap>=0.28.5->interpret-core[dash,debug,linear,notebook,plotly,sensitivity,shap]==0.6.1->interpret)\n",
            "  Downloading slicer-0.0.8-py3-none-any.whl.metadata (4.0 kB)\n",
            "Requirement already satisfied: numba in c:\\users\\x1 yoga\\appdata\\local\\programs\\python\\python310\\lib\\site-packages (from shap>=0.28.5->interpret-core[dash,debug,linear,notebook,plotly,sensitivity,shap]==0.6.1->interpret) (0.57.0)\n",
            "Requirement already satisfied: cloudpickle in c:\\users\\x1 yoga\\appdata\\local\\programs\\python\\python310\\lib\\site-packages (from shap>=0.28.5->interpret-core[dash,debug,linear,notebook,plotly,sensitivity,shap]==0.6.1->interpret) (3.0.0)\n",
            "Requirement already satisfied: pycparser in c:\\users\\x1 yoga\\appdata\\local\\programs\\python\\python310\\lib\\site-packages (from cffi>=1.12.2->gevent>=1.3.6->interpret-core[dash,debug,linear,notebook,plotly,sensitivity,shap]==0.6.1->interpret) (2.21)\n",
            "Requirement already satisfied: Jinja2>=3.1.2 in c:\\users\\x1 yoga\\appdata\\local\\programs\\python\\python310\\lib\\site-packages (from Flask<3.1,>=1.0.4->dash>=1.0.0->interpret-core[dash,debug,linear,notebook,plotly,sensitivity,shap]==0.6.1->interpret) (3.1.2)\n",
            "Requirement already satisfied: itsdangerous>=2.1.2 in c:\\users\\x1 yoga\\appdata\\local\\programs\\python\\python310\\lib\\site-packages (from Flask<3.1,>=1.0.4->dash>=1.0.0->interpret-core[dash,debug,linear,notebook,plotly,sensitivity,shap]==0.6.1->interpret) (2.1.2)\n",
            "Requirement already satisfied: click>=8.1.3 in c:\\users\\x1 yoga\\appdata\\local\\programs\\python\\python310\\lib\\site-packages (from Flask<3.1,>=1.0.4->dash>=1.0.0->interpret-core[dash,debug,linear,notebook,plotly,sensitivity,shap]==0.6.1->interpret) (8.1.7)\n",
            "Requirement already satisfied: blinker>=1.6.2 in c:\\users\\x1 yoga\\appdata\\local\\programs\\python\\python310\\lib\\site-packages (from Flask<3.1,>=1.0.4->dash>=1.0.0->interpret-core[dash,debug,linear,notebook,plotly,sensitivity,shap]==0.6.1->interpret) (1.6.2)\n",
            "Requirement already satisfied: parso<0.9.0,>=0.8.3 in c:\\users\\x1 yoga\\appdata\\roaming\\python\\python310\\site-packages (from jedi>=0.16->ipython>=5.5.0->interpret-core[dash,debug,linear,notebook,plotly,sensitivity,shap]==0.6.1->interpret) (0.8.3)\n",
            "Requirement already satisfied: entrypoints in c:\\users\\x1 yoga\\appdata\\roaming\\python\\python310\\site-packages (from jupyter-client>=6.1.12->ipykernel>=4.10.0->interpret-core[dash,debug,linear,notebook,plotly,sensitivity,shap]==0.6.1->interpret) (0.4)\n",
            "Requirement already satisfied: platformdirs>=2.5 in c:\\users\\x1 yoga\\appdata\\local\\programs\\python\\python310\\lib\\site-packages (from jupyter-core!=5.0.*,>=4.12->ipykernel>=4.10.0->interpret-core[dash,debug,linear,notebook,plotly,sensitivity,shap]==0.6.1->interpret) (3.10.0)\n",
            "Requirement already satisfied: pywin32>=300 in c:\\users\\x1 yoga\\appdata\\local\\programs\\python\\python310\\lib\\site-packages (from jupyter-core!=5.0.*,>=4.12->ipykernel>=4.10.0->interpret-core[dash,debug,linear,notebook,plotly,sensitivity,shap]==0.6.1->interpret) (306)\n",
            "Requirement already satisfied: contourpy>=1.0.1 in c:\\users\\x1 yoga\\appdata\\local\\programs\\python\\python310\\lib\\site-packages (from matplotlib>=3.5->SALib>=1.3.3->interpret-core[dash,debug,linear,notebook,plotly,sensitivity,shap]==0.6.1->interpret) (1.1.1)\n",
            "Requirement already satisfied: cycler>=0.10 in c:\\users\\x1 yoga\\appdata\\local\\programs\\python\\python310\\lib\\site-packages (from matplotlib>=3.5->SALib>=1.3.3->interpret-core[dash,debug,linear,notebook,plotly,sensitivity,shap]==0.6.1->interpret) (0.11.0)\n",
            "Requirement already satisfied: fonttools>=4.22.0 in c:\\users\\x1 yoga\\appdata\\local\\programs\\python\\python310\\lib\\site-packages (from matplotlib>=3.5->SALib>=1.3.3->interpret-core[dash,debug,linear,notebook,plotly,sensitivity,shap]==0.6.1->interpret) (4.42.1)\n",
            "Requirement already satisfied: kiwisolver>=1.0.1 in c:\\users\\x1 yoga\\appdata\\local\\programs\\python\\python310\\lib\\site-packages (from matplotlib>=3.5->SALib>=1.3.3->interpret-core[dash,debug,linear,notebook,plotly,sensitivity,shap]==0.6.1->interpret) (1.4.5)\n",
            "Requirement already satisfied: pillow>=6.2.0 in c:\\users\\x1 yoga\\appdata\\local\\programs\\python\\python310\\lib\\site-packages (from matplotlib>=3.5->SALib>=1.3.3->interpret-core[dash,debug,linear,notebook,plotly,sensitivity,shap]==0.6.1->interpret) (10.0.1)\n",
            "Requirement already satisfied: pyparsing>=2.3.1 in c:\\users\\x1 yoga\\appdata\\local\\programs\\python\\python310\\lib\\site-packages (from matplotlib>=3.5->SALib>=1.3.3->interpret-core[dash,debug,linear,notebook,plotly,sensitivity,shap]==0.6.1->interpret) (3.1.1)\n",
            "Requirement already satisfied: wcwidth in c:\\users\\x1 yoga\\appdata\\local\\programs\\python\\python310\\lib\\site-packages (from prompt-toolkit!=3.0.37,<3.1.0,>=3.0.30->ipython>=5.5.0->interpret-core[dash,debug,linear,notebook,plotly,sensitivity,shap]==0.6.1->interpret) (0.2.6)\n",
            "Requirement already satisfied: six>=1.5 in c:\\users\\x1 yoga\\appdata\\local\\programs\\python\\python310\\lib\\site-packages (from python-dateutil>=2.8.2->pandas>=0.19.2->interpret-core==0.6.1->interpret-core[dash,debug,linear,notebook,plotly,sensitivity,shap]==0.6.1->interpret) (1.15.0)\n",
            "Requirement already satisfied: MarkupSafe>=2.1.1 in c:\\users\\x1 yoga\\appdata\\local\\programs\\python\\python310\\lib\\site-packages (from Werkzeug<3.1->dash>=1.0.0->interpret-core[dash,debug,linear,notebook,plotly,sensitivity,shap]==0.6.1->interpret) (2.1.1)\n",
            "Collecting zipp>=0.5 (from importlib-metadata->dash>=1.0.0->interpret-core[dash,debug,linear,notebook,plotly,sensitivity,shap]==0.6.1->interpret)\n",
            "  Downloading zipp-3.18.2-py3-none-any.whl.metadata (3.5 kB)\n",
            "Requirement already satisfied: llvmlite<0.41,>=0.40.0dev0 in c:\\users\\x1 yoga\\appdata\\local\\programs\\python\\python310\\lib\\site-packages (from numba->shap>=0.28.5->interpret-core[dash,debug,linear,notebook,plotly,sensitivity,shap]==0.6.1->interpret) (0.40.1)\n",
            "Requirement already satisfied: executing>=1.2.0 in c:\\users\\x1 yoga\\appdata\\roaming\\python\\python310\\site-packages (from stack-data->ipython>=5.5.0->interpret-core[dash,debug,linear,notebook,plotly,sensitivity,shap]==0.6.1->interpret) (2.0.0)\n",
            "Requirement already satisfied: asttokens>=2.1.0 in c:\\users\\x1 yoga\\appdata\\roaming\\python\\python310\\site-packages (from stack-data->ipython>=5.5.0->interpret-core[dash,debug,linear,notebook,plotly,sensitivity,shap]==0.6.1->interpret) (2.4.0)\n",
            "Requirement already satisfied: pure-eval in c:\\users\\x1 yoga\\appdata\\roaming\\python\\python310\\site-packages (from stack-data->ipython>=5.5.0->interpret-core[dash,debug,linear,notebook,plotly,sensitivity,shap]==0.6.1->interpret) (0.2.2)\n",
            "Downloading interpret-0.6.1-py3-none-any.whl (1.4 kB)\n",
            "Downloading interpret_core-0.6.1-py3-none-any.whl (13.2 MB)\n",
            "   ---------------------------------------- 0.0/13.2 MB ? eta -:--:--\n",
            "   - -------------------------------------- 0.3/13.2 MB 10.6 MB/s eta 0:00:02\n",
            "   -- ------------------------------------- 0.9/13.2 MB 11.8 MB/s eta 0:00:02\n",
            "   ----- ---------------------------------- 1.8/13.2 MB 14.4 MB/s eta 0:00:01\n",
            "   -------- ------------------------------- 2.9/13.2 MB 17.0 MB/s eta 0:00:01\n",
            "   ----------- ---------------------------- 3.8/13.2 MB 17.4 MB/s eta 0:00:01\n",
            "   ----------------- ---------------------- 5.8/13.2 MB 21.6 MB/s eta 0:00:01\n",
            "   --------------------- ------------------ 7.2/13.2 MB 21.9 MB/s eta 0:00:01\n",
            "   -------------------------- ------------- 8.7/13.2 MB 23.2 MB/s eta 0:00:01\n",
            "   ------------------------------ --------- 10.0/13.2 MB 23.8 MB/s eta 0:00:01\n",
            "   ---------------------------------- ----- 11.2/13.2 MB 27.3 MB/s eta 0:00:01\n",
            "   ---------------------------------------  13.2/13.2 MB 28.5 MB/s eta 0:00:01\n",
            "   ---------------------------------------- 13.2/13.2 MB 25.2 MB/s eta 0:00:00\n",
            "Downloading dash-2.17.0-py3-none-any.whl (7.5 MB)\n",
            "   ---------------------------------------- 0.0/7.5 MB ? eta -:--:--\n",
            "   ---------- ----------------------------- 2.0/7.5 MB 32.2 MB/s eta 0:00:01\n",
            "   ----------------------- ---------------- 4.5/7.5 MB 31.5 MB/s eta 0:00:01\n",
            "   -------------------------------------- - 7.3/7.5 MB 31.1 MB/s eta 0:00:01\n",
            "   ---------------------------------------- 7.5/7.5 MB 26.6 MB/s eta 0:00:00\n",
            "Downloading dash_core_components-2.0.0-py3-none-any.whl (3.8 kB)\n",
            "Downloading dash_html_components-2.0.0-py3-none-any.whl (4.1 kB)\n",
            "Downloading dash_table-5.0.0-py3-none-any.whl (3.9 kB)\n",
            "Downloading dash_cytoscape-1.0.0-py3-none-any.whl (4.0 MB)\n",
            "   ---------------------------------------- 0.0/4.0 MB ? eta -:--:--\n",
            "   ------------ --------------------------- 1.3/4.0 MB 39.4 MB/s eta 0:00:01\n",
            "   --------------------------- ------------ 2.8/4.0 MB 35.2 MB/s eta 0:00:01\n",
            "   ---------------------------------------  4.0/4.0 MB 31.9 MB/s eta 0:00:01\n",
            "   ---------------------------------------- 4.0/4.0 MB 23.2 MB/s eta 0:00:00\n",
            "Downloading plotly-5.22.0-py3-none-any.whl (16.4 MB)\n",
            "   ---------------------------------------- 0.0/16.4 MB ? eta -:--:--\n",
            "   --- ------------------------------------ 1.4/16.4 MB 29.2 MB/s eta 0:00:01\n",
            "   ------- -------------------------------- 3.0/16.4 MB 27.6 MB/s eta 0:00:01\n",
            "   ----------- ---------------------------- 4.7/16.4 MB 30.2 MB/s eta 0:00:01\n",
            "   -------------- ------------------------- 6.1/16.4 MB 27.9 MB/s eta 0:00:01\n",
            "   ------------------- -------------------- 7.9/16.4 MB 29.9 MB/s eta 0:00:01\n",
            "   ---------------------- ----------------- 9.2/16.4 MB 29.5 MB/s eta 0:00:01\n",
            "   ------------------------- -------------- 10.6/16.4 MB 29.7 MB/s eta 0:00:01\n",
            "   ---------------------------- ----------- 11.7/16.4 MB 31.2 MB/s eta 0:00:01\n",
            "   -------------------------------- ------- 13.3/16.4 MB 32.8 MB/s eta 0:00:01\n",
            "   --------------------------------- ------ 13.7/16.4 MB 29.7 MB/s eta 0:00:01\n",
            "   -------------------------------------- - 15.7/16.4 MB 29.7 MB/s eta 0:00:01\n",
            "   ---------------------------------------  16.4/16.4 MB 29.8 MB/s eta 0:00:01\n",
            "   ---------------------------------------- 16.4/16.4 MB 26.2 MB/s eta 0:00:00\n",
            "Downloading salib-1.5.0-py3-none-any.whl (778 kB)\n",
            "   ---------------------------------------- 0.0/778.8 kB ? eta -:--:--\n",
            "   --------------------------------------- 778.8/778.8 kB 16.4 MB/s eta 0:00:00\n",
            "Downloading shap-0.45.1-cp310-cp310-win_amd64.whl (455 kB)\n",
            "   ---------------------------------------- 0.0/455.5 kB ? eta -:--:--\n",
            "   --------------------------------------- 455.5/455.5 kB 14.4 MB/s eta 0:00:00\n",
            "Downloading slicer-0.0.8-py3-none-any.whl (15 kB)\n",
            "Downloading tenacity-8.3.0-py3-none-any.whl (25 kB)\n",
            "Downloading importlib_metadata-7.1.0-py3-none-any.whl (24 kB)\n",
            "Downloading retrying-1.3.4-py3-none-any.whl (11 kB)\n",
            "Downloading zipp-3.18.2-py3-none-any.whl (8.3 kB)\n",
            "Installing collected packages: dash-table, dash-html-components, dash-core-components, zipp, tenacity, slicer, retrying, plotly, importlib-metadata, shap, SALib, interpret-core, dash, dash-cytoscape, interpret\n",
            "Successfully installed SALib-1.5.0 dash-2.17.0 dash-core-components-2.0.0 dash-cytoscape-1.0.0 dash-html-components-2.0.0 dash-table-5.0.0 importlib-metadata-7.1.0 interpret-0.6.1 interpret-core-0.6.1 plotly-5.22.0 retrying-1.3.4 shap-0.45.1 slicer-0.0.8 tenacity-8.3.0 zipp-3.18.2\n"
          ]
        },
        {
          "name": "stderr",
          "output_type": "stream",
          "text": [
            "DEPRECATION: torchsde 0.2.5 has a non-standard dependency specifier numpy>=1.19.*; python_version >= \"3.7\". pip 24.1 will enforce this behaviour change. A possible replacement is to upgrade to a newer version of torchsde or contact the author to suggest that they release a version with a conforming dependency specifiers. Discussion can be found at https://github.com/pypa/pip/issues/12063\n"
          ]
        },
        {
          "name": "stdout",
          "output_type": "stream",
          "text": [
            "Requirement already satisfied: scikit-learn in c:\\users\\x1 yoga\\appdata\\local\\programs\\python\\python310\\lib\\site-packages (1.2.2)\n",
            "Collecting scikit-learn\n",
            "  Downloading scikit_learn-1.4.2-cp310-cp310-win_amd64.whl.metadata (11 kB)\n",
            "Requirement already satisfied: numpy>=1.19.5 in c:\\users\\x1 yoga\\appdata\\local\\programs\\python\\python310\\lib\\site-packages (from scikit-learn) (1.24.3)\n",
            "Requirement already satisfied: scipy>=1.6.0 in c:\\users\\x1 yoga\\appdata\\local\\programs\\python\\python310\\lib\\site-packages (from scikit-learn) (1.11.2)\n",
            "Requirement already satisfied: joblib>=1.2.0 in c:\\users\\x1 yoga\\appdata\\local\\programs\\python\\python310\\lib\\site-packages (from scikit-learn) (1.2.0)\n",
            "Requirement already satisfied: threadpoolctl>=2.0.0 in c:\\users\\x1 yoga\\appdata\\local\\programs\\python\\python310\\lib\\site-packages (from scikit-learn) (3.2.0)\n",
            "Downloading scikit_learn-1.4.2-cp310-cp310-win_amd64.whl (10.6 MB)\n",
            "   ---------------------------------------- 0.0/10.6 MB ? eta -:--:--\n",
            "   ------------ --------------------------- 3.4/10.6 MB 21.7 MB/s eta 0:00:01\n",
            "   -------------------------- ------------- 7.1/10.6 MB 23.8 MB/s eta 0:00:01\n",
            "   ---------------------------------- ----- 9.2/10.6 MB 23.6 MB/s eta 0:00:01\n",
            "   ---------------------------------------  10.5/10.6 MB 24.2 MB/s eta 0:00:01\n",
            "   ---------------------------------------- 10.6/10.6 MB 22.6 MB/s eta 0:00:00\n",
            "Installing collected packages: scikit-learn\n",
            "  Attempting uninstall: scikit-learn\n",
            "    Found existing installation: scikit-learn 1.2.2\n",
            "    Uninstalling scikit-learn-1.2.2:\n",
            "      Successfully uninstalled scikit-learn-1.2.2\n",
            "Successfully installed scikit-learn-1.4.2\n"
          ]
        },
        {
          "name": "stderr",
          "output_type": "stream",
          "text": [
            "DEPRECATION: torchsde 0.2.5 has a non-standard dependency specifier numpy>=1.19.*; python_version >= \"3.7\". pip 24.1 will enforce this behaviour change. A possible replacement is to upgrade to a newer version of torchsde or contact the author to suggest that they release a version with a conforming dependency specifiers. Discussion can be found at https://github.com/pypa/pip/issues/12063\n",
            "ERROR: pip's dependency resolver does not currently take into account all the packages that are installed. This behaviour is the source of the following dependency conflicts.\n",
            "tts 0.17.5 requires cython==0.29.30, but you have cython 3.0.10 which is incompatible.\n",
            "tts 0.17.5 requires numpy==1.22.0; python_version <= \"3.10\", but you have numpy 1.24.3 which is incompatible.\n",
            "tts 0.17.5 requires pandas==1.4.*, but you have pandas 2.2.1 which is incompatible.\n",
            "tts 0.17.5 requires scikit-learn==1.3.0, but you have scikit-learn 1.4.2 which is incompatible.\n"
          ]
        }
      ],
      "source": [
        "# Installing packages\n",
        "!pip install graphviz\n",
        "!pip install matplotlib pandas statsmodels openpyxl\n",
        "!pip install interpret\n",
        "!pip install scikit-learn --upgrade"
      ]
    },
    {
      "cell_type": "markdown",
      "metadata": {
        "id": "HeSC0_WEpY0k"
      },
      "source": [
        "### Read the data\n",
        "We are going to use the ChaLearn LAP-FI (First Impressions) Dataset. This dataset contains 10.000 data points, which correspond to videos collected from YouTube and annotated via Amazon Mechanical Turk for the BIG-5 personality impressions: openness, extraversion, conscientiousness, neuroticism, agreeableness.\n",
        "\n",
        "These five personality impression scores will be used as features to predict the outcome variable: a job interview invitation.\n",
        "\n",
        "For a detailed description, see the [paper of the dataset](https://ieeexplore.ieee.org/abstract/document/7966041?casa_token=1Y03H5ykCqsAAAAA:VLhCcjAgByJ2hTdKhulmIUiXIVepEJfFyB7HM0XVts7bN8Gi8wMsiTT0qZ--I_kq8wiUHIpPN7es).\n",
        "\n",
        "\n",
        "1.   If you use Google Colab, upload 'all_df.csv' (you can find this file on blackboard) through the upload button in the Files tab.\n",
        "  - Copy the path of the file;\n",
        "  - Run the cell below with your path. This will ask you for permission to access your Google Drive files and then you can access the data.\n",
        "2.   If you are running this notebook at your own machine (jupyter notebook), locate the 'all_df.csv' file in the same folder this notebook exists. Then you can run the second cell below.\n",
        "\n",
        "   \n",
        "\n"
      ]
    },
    {
      "cell_type": "code",
      "execution_count": null,
      "metadata": {
        "id": "okPuwNvww9F-"
      },
      "outputs": [],
      "source": [
        "# # Run this cell only if you use Google Colab\n",
        "# from google.colab import drive\n",
        "# drive.mount('/content/gdrive')\n",
        "\n",
        "# # Make sure you uploaded all_df.csv to your Google Drive and change the path\n",
        "# # to the directory it is located in (usually in content/gdrive/MyDrive/...)\n",
        "# %cd  '/content/gdrive/MyDrive/HCML/Explainability'"
      ]
    },
    {
      "cell_type": "code",
      "execution_count": 2,
      "metadata": {
        "id": "fleSmPrE7UMT"
      },
      "outputs": [
        {
          "name": "stdout",
          "output_type": "stream",
          "text": [
            "Data loaded\n"
          ]
        }
      ],
      "source": [
        "# Run this cell (both when working locally or with Google Colab)\n",
        "import pandas as pd\n",
        "\n",
        "data = pd.read_csv(\"all_df.csv\")\n",
        "print(\"Data loaded\")"
      ]
    },
    {
      "cell_type": "markdown",
      "metadata": {
        "id": "PQpW5C3Sg9YA"
      },
      "source": [
        "### Loading and preprocessing the data\n",
        "There are 6000, 2000 and 2000 examples for training, validation/development and test set respectively. In the data this is indicated by the feature `split`.\n",
        "\n",
        "The training set is used to train models, the validation/development set to optimize the models hyper-parameters, and the test set to evaluate the trained model."
      ]
    },
    {
      "cell_type": "code",
      "execution_count": 48,
      "metadata": {
        "id": "JycjPmn_7p41"
      },
      "outputs": [],
      "source": [
        "import numpy as np\n",
        "\n",
        "# global variables\n",
        "FEATURE_NAMES = ['extraversion', 'neuroticism', 'agreeableness', 'conscientiousness', 'openness']\n",
        "LABEL_NAME = 'interview'\n",
        "\n",
        "def load_data():\n",
        "    def split_feature_label(data_set):\n",
        "        features = data_set[FEATURE_NAMES]\n",
        "        labels = data_set[LABEL_NAME]\n",
        "        return features, labels\n",
        "\n",
        "    train_set = data[data['split'] == 'training']\n",
        "    val_set = data[data['split'] == 'validation']\n",
        "    test_set = data[data['split'] == 'test']\n",
        "\n",
        "    train_features, train_labels = split_feature_label(train_set)\n",
        "    val_features, val_labels = split_feature_label(val_set)\n",
        "    test_features, test_labels = split_feature_label(test_set)\n",
        "\n",
        "    return train_features, train_labels, val_features, \\\n",
        "        val_labels, test_features, test_labels\n",
        "\n",
        "# Load the data with the function above\n",
        "(train_features, train_labels, dev_features, \\\n",
        "        dev_labels, test_features, test_labels) = load_data()"
      ]
    },
    {
      "cell_type": "markdown",
      "metadata": {
        "id": "VbkcGeJT6stA"
      },
      "source": [
        "# Part 1. Different models"
      ]
    },
    {
      "cell_type": "markdown",
      "metadata": {
        "id": "QabF2JOdMTI4"
      },
      "source": [
        "### **1. Linear Regression**\n",
        "\n",
        "Train a linear regression model (we recommend the `statsmodels.api` package with the ordinary least squares model `sm`).\n",
        "\n",
        "Hint: to get a linear regression model, you should manually add a constant variable (usually called bias or intercept - that has a fixed value of 1 for all instances) to the data, either by adding it column yourself or by using the `add_constant()` function.\n",
        "\n"
      ]
    },
    {
      "cell_type": "markdown",
      "metadata": {
        "id": "fg6Tc7uD6jL_"
      },
      "source": [
        "**Q1.1**\n",
        "\n",
        "Provide the $R^2$ (goodness of fit) statistic and for each feature (+ the bias variable), the following in tabular format:\n",
        "* Weight estimate (coef)\n",
        "* SE (standard error of estimates)\n",
        "* T-statistic\n",
        "\n",
        "Hint: You can print the summary of the model using `.summary()` to do this. This gives an extensive overview of the performance of a model."
      ]
    },
    {
      "cell_type": "code",
      "execution_count": 49,
      "metadata": {
        "id": "B91BszFhMStw"
      },
      "outputs": [
        {
          "name": "stdout",
          "output_type": "stream",
          "text": [
            "                            OLS Regression Results                            \n",
            "==============================================================================\n",
            "Dep. Variable:              interview   R-squared:                       0.914\n",
            "Model:                            OLS   Adj. R-squared:                  0.914\n",
            "Method:                 Least Squares   F-statistic:                 1.278e+04\n",
            "Date:                Thu, 16 May 2024   Prob (F-statistic):               0.00\n",
            "Time:                        16:48:05   Log-Likelihood:                 10232.\n",
            "No. Observations:                6000   AIC:                        -2.045e+04\n",
            "Df Residuals:                    5994   BIC:                        -2.041e+04\n",
            "Df Model:                           5                                         \n",
            "Covariance Type:            nonrobust                                         \n",
            "=====================================================================================\n",
            "                        coef    std err          t      P>|t|      [0.025      0.975]\n",
            "-------------------------------------------------------------------------------------\n",
            "const                -0.0727      0.003    -28.052      0.000      -0.078      -0.068\n",
            "extraversion          0.1891      0.007     26.954      0.000       0.175       0.203\n",
            "neuroticism           0.2397      0.008     31.013      0.000       0.225       0.255\n",
            "agreeableness         0.2573      0.007     38.337      0.000       0.244       0.270\n",
            "conscientiousness     0.3293      0.005     59.926      0.000       0.318       0.340\n",
            "openness              0.0857      0.007     12.753      0.000       0.073       0.099\n",
            "==============================================================================\n",
            "Omnibus:                        7.437   Durbin-Watson:                   2.017\n",
            "Prob(Omnibus):                  0.024   Jarque-Bera (JB):                7.444\n",
            "Skew:                          -0.086   Prob(JB):                       0.0242\n",
            "Kurtosis:                       3.000   Cond. No.                         24.5\n",
            "==============================================================================\n",
            "\n",
            "Notes:\n",
            "[1] Standard Errors assume that the covariance matrix of the errors is correctly specified.\n"
          ]
        }
      ],
      "source": [
        "# We recommend the statsmodels package\n",
        "import statsmodels.api as sm\n",
        "from statsmodels.tools import tools as sm_tools\n",
        "\n",
        "# Your code to add a bias/intercept variable\n",
        "train_features = sm_tools.add_constant(train_features)\n",
        "\n",
        "# Train the model and print out the summary\n",
        "model = sm.OLS(train_labels, train_features).fit()\n",
        "print(model.summary())\n"
      ]
    },
    {
      "cell_type": "markdown",
      "metadata": {
        "id": "lQSPWuVzNBmX"
      },
      "source": [
        "**Q1.2**\n",
        "\n",
        "Which three features are the most important?\n",
        "\n",
        "> Answer: conscientiousness, agreeableness & neuroticism"
      ]
    },
    {
      "cell_type": "markdown",
      "metadata": {
        "id": "6miEyz_f66Ei"
      },
      "source": [
        "**Q1.3**\n",
        "\n",
        "How does the predicted 'interview' score change with an 0.1 increase of the 'conscientiousness' feature given that all other feature values remain the same?\n",
        "\n",
        "> Answer: this shows a higher correlation for people with a higher amount of conscientiousness which leads to a more likely scenario where interview = 1"
      ]
    },
    {
      "cell_type": "markdown",
      "metadata": {
        "id": "7AlVsA0ZhWbw"
      },
      "source": [
        "**Q1.4**\n",
        "\n",
        "Show bar graph illustrations of the feature effects for the first two validation set instances.\n",
        "\n",
        "> Answer:"
      ]
    },
    {
      "cell_type": "code",
      "execution_count": 50,
      "metadata": {
        "id": "abB-9YswhkMo"
      },
      "outputs": [
        {
          "data": {
            "image/png": "[encoded data removed]",
            "text/plain": [
              "<Figure size 1000x600 with 1 Axes>"
            ]
          },
          "metadata": {},
          "output_type": "display_data"
        }
      ],
      "source": [
        "import matplotlib.pyplot as plt\n",
        "\n",
        "# Compute the Feature Effects\n",
        "coefficients = model.params[1:]\n",
        "\n",
        "first_instance_features = dev_features.iloc[0]\n",
        "second_instance_features = dev_features.iloc[1]\n",
        "\n",
        "first_instance_effects = coefficients * first_instance_features\n",
        "second_instance_effects = coefficients * second_instance_features\n",
        "\n",
        "# Show bar graphs\n",
        "plt.figure(figsize=(10, 6))\n",
        "bar_width = 0.35\n",
        "index = range(len(coefficients))\n",
        "\n",
        "plt.bar(index, first_instance_effects, bar_width, label='First Instance')\n",
        "plt.bar([i + bar_width for i in index], second_instance_effects, bar_width, label='Second Instance')\n",
        "\n",
        "plt.xlabel('Feature')\n",
        "plt.ylabel('Effect')\n",
        "plt.title('Feature Effects for First Two Instances in Dev Set')\n",
        "plt.xticks([i + bar_width / 2 for i in index], dev_features.columns)\n",
        "plt.legend()\n",
        "plt.grid(axis='y')\n",
        "plt.show()\n"
      ]
    },
    {
      "cell_type": "markdown",
      "metadata": {
        "id": "5tj6Pri4HBeO"
      },
      "source": [
        "**Q1.5**\n",
        "\n",
        "Reflection: why would training a regression tree not work well for this dataset in terms of model interpretability? And under what conditions could the dataset be used with a decision tree to yield an interpretable model?\n",
        "\n",
        "> Answer: There are no clear rule based demarcations on whether a person is invited for an interview or not. A decision tree yields better results for features that are binary or categorical."
      ]
    },
    {
      "cell_type": "markdown",
      "metadata": {
        "id": "k7r09mMfeo2k"
      },
      "source": [
        "### **2. Explainable Boosting Model**\n",
        "Train an Explainable Boosting Machine (EBM) with [InterpretML](https://interpret.ml/docs/ebm.html). EBM is a Generalized Additive Model (GAM) that is highly intelligible and explainable.\n",
        "\n",
        "The `interpret` package provides both global and local explanation functions: `explain_global()` and `explain_local()` can be used to interpret a ML model."
      ]
    },
    {
      "cell_type": "markdown",
      "metadata": {
        "id": "YUxfqAHb7ZgX"
      },
      "source": [
        "**Q2.1**\n",
        "\n",
        "Visualize/provide global (model-wise) feature importances for EBM as a table or figure."
      ]
    },
    {
      "cell_type": "code",
      "execution_count": 51,
      "metadata": {
        "id": "jbqYT0Wh34k-"
      },
      "outputs": [
        {
          "data": {
            "text/html": [
              "<!-- http://127.0.0.1:7001/2739882168560/ -->\n",
              "<iframe src=\"http://127.0.0.1:7001/2739882168560/\" width=100% height=800 frameBorder=\"0\"></iframe>"
            ]
          },
          "metadata": {},
          "output_type": "display_data"
        }
      ],
      "source": [
        "from interpret.glassbox import ExplainableBoostingRegressor\n",
        "from interpret import show\n",
        "\n",
        "# EBM Global feature importances\n",
        "ebm = ExplainableBoostingRegressor()\n",
        "res = ebm.fit(dev_features, dev_labels)\n",
        "\n",
        "show(ebm.explain_global())"
      ]
    },
    {
      "cell_type": "markdown",
      "metadata": {
        "id": "9cJ1uiHf34_l"
      },
      "source": [
        "**Q2.2**\n",
        "\n",
        "What are the most important two features in EBM? Are they the same as in the linear model?\n",
        "\n",
        "> Answer: The most important feature conscientiousness is the same as in the linear model. The EBM however says agreeableness is the second most important feature."
      ]
    },
    {
      "cell_type": "markdown",
      "metadata": {
        "id": "oUxRg7Xr7hr1"
      },
      "source": [
        "Now, to have an idea how EBM treats the input and generates the explanation, visualize EBM local explanations on a synthetic instance generated from training set mean feature vector as input and training set mean response as output.\n",
        "\n"
      ]
    },
    {
      "cell_type": "code",
      "execution_count": 55,
      "metadata": {
        "id": "BieO0LiSceUd"
      },
      "outputs": [
        {
          "name": "stdout",
          "output_type": "stream",
          "text": [
            "   extraversion  neuroticism  agreeableness  conscientiousness  openness\n",
            "0      0.476813     0.521563       0.551049           0.528019  0.566317\n",
            "         0\n",
            "0  0.50465\n"
          ]
        },
        {
          "data": {
            "text/html": [
              "<!-- http://127.0.0.1:7001/2740003565008/ -->\n",
              "<iframe src=\"http://127.0.0.1:7001/2740003565008/\" width=100% height=800 frameBorder=\"0\"></iframe>"
            ]
          },
          "metadata": {},
          "output_type": "display_data"
        }
      ],
      "source": [
        "# EBM Local explanation for training set mean vector with corresponding training set mean label\n",
        "dev_mean_x = pd.DataFrame(dev_features.mean(axis=0)).T\n",
        "dev_mean_y = pd.DataFrame([dev_labels.mean()])\n",
        "\n",
        "print(dev_mean_x)\n",
        "print(dev_mean_y)\n",
        "\n",
        "show(ebm.explain_local(dev_mean_x, dev_mean_y), 0)"
      ]
    },
    {
      "cell_type": "markdown",
      "metadata": {
        "id": "5TMeydtDsB35"
      },
      "source": [
        "**Q2.3**\n",
        "\n",
        "Now, visualize local (instance-wise) feature importances for the first two instances of the development set."
      ]
    },
    {
      "cell_type": "code",
      "execution_count": 40,
      "metadata": {
        "id": "ce00C36ilxxC"
      },
      "outputs": [
        {
          "data": {
            "text/html": [
              "<!-- http://127.0.0.1:7001/2739947417664/ -->\n",
              "<iframe src=\"http://127.0.0.1:7001/2739947417664/\" width=100% height=800 frameBorder=\"0\"></iframe>"
            ]
          },
          "metadata": {},
          "output_type": "display_data"
        }
      ],
      "source": [
        "# EBM local explanations for the first two development set instances\n",
        "show(ebm.explain_local(dev_features[:2], dev_labels[:2]), 0)"
      ]
    },
    {
      "cell_type": "markdown",
      "metadata": {
        "id": "bTFmCfAn5xQK"
      },
      "source": [
        "**Q2.4**\n",
        "\n",
        "Let's compare these feature importances with the feature effects in question 1.4.\n",
        "\n",
        "* Are the feature contribution orderings the same in both models for the two instances?\n",
        "> Answer: \n",
        "\n",
        "* For the second example's explanation, why do you think the contribution of *conscientiousness* is positive, while the contribution of *agreeableness* is negative? (Hint: consider the feature values relative to the training set mean values you calculated / processed in the former subquestion.)\n",
        "> Answer:"
      ]
    },
    {
      "cell_type": "markdown",
      "metadata": {
        "id": "_k7dAwTIfbsc"
      },
      "source": [
        "# Part 2. Model-Agnostic Methods for Interpreting/Explaining NN"
      ]
    },
    {
      "cell_type": "markdown",
      "metadata": {
        "id": "5EbowFSZAZj6"
      },
      "source": [
        "### **3. Training Neural Networks**\n",
        "Train a one-layer Neural Network (multi-layer perceptron (MLP) Regressor, but with one layer) with the following settings:\n",
        "\n",
        "- Activation function: ReLU\n",
        "- Size of the hidden layer: 50 neurons\n",
        "- Recommended optimizer/solver: Adam\n",
        "\n",
        "For a tutorial see [Tutorial](https://scikit-learn.org/stable/modules/neural_networks_supervised.html).\n",
        "\n",
        "**Q3.1**\n",
        "\n",
        "Apply the trained neural network model to the development set to find the best hyperparameters (such as learning rate). Report the Root Mean Square Error (RMSE) performance measure.\n",
        "\n",
        "**Note.** A development set RMSE below 0.045 is reasonable, then you can apply the corresponding model on the test set in the next question."
      ]
    },
    {
      "cell_type": "code",
      "execution_count": null,
      "metadata": {
        "id": "qQjg_qtCf_WD"
      },
      "outputs": [],
      "source": [
        "from sklearn.neural_network import MLPRegressor\n",
        "\n",
        "# Train the MLPRegressor and show RMSE on development set"
      ]
    },
    {
      "cell_type": "markdown",
      "metadata": {
        "id": "rQySPj5Nt_sO"
      },
      "source": [
        "**Q3.2**\n",
        "\n",
        "Now use the best settings to report the Root Mean Square Error (RMSE) performance measure on the test set.\n",
        "\n",
        "It is possible to use the combination of the training and development sets to retrain the model and report the test set performance. You can also use the model that was trained on the training set only."
      ]
    },
    {
      "cell_type": "code",
      "execution_count": null,
      "metadata": {
        "id": "YxuJUUUnPgGb"
      },
      "outputs": [],
      "source": [
        "# RMSE on test set"
      ]
    },
    {
      "cell_type": "markdown",
      "metadata": {
        "id": "huX2fiH1-Qir"
      },
      "source": [
        "Now we can analyze factors that influence the predictions. Both Partial Dependence Plots (PDP) and Individual Conditional Expectation (ICE) plots can be used to visualize and analyze interaction between the target response and a set of input features of interest.\n",
        "\n",
        "See the [Documentation](https://scikit-learn.org/stable/modules/partial_dependence.html) on how to use PDPs and ICEs.\n",
        "\n",
        "**Q3.3**\n",
        "\n",
        "Generate univariate and bivariate PDPs for the `conscientiousness` and `agreeableness` features with the neural network you trained above."
      ]
    },
    {
      "cell_type": "code",
      "execution_count": null,
      "metadata": {
        "id": "xqVV2yHdpSdl"
      },
      "outputs": [],
      "source": [
        "from sklearn.inspection import PartialDependenceDisplay\n",
        "\n",
        "# PDPs"
      ]
    },
    {
      "cell_type": "markdown",
      "metadata": {
        "id": "M584ROYo1czo"
      },
      "source": [
        "**Q3.4**\n",
        "\n",
        "What do these plots show?\n",
        "\n",
        "> Answer:\n",
        "\n",
        "**Q3.5**\n",
        "\n",
        "Now generate ICE plots for each feature."
      ]
    },
    {
      "cell_type": "code",
      "execution_count": null,
      "metadata": {
        "id": "ig_iwDVqQBdY"
      },
      "outputs": [],
      "source": [
        "# ICEs"
      ]
    },
    {
      "cell_type": "markdown",
      "metadata": {
        "id": "Y75fIVlY2abm"
      },
      "source": [
        "**Q3.6**\n",
        "\n",
        "What can you conclude from ICE plots above?\n",
        "\n",
        "> Answer:"
      ]
    },
    {
      "cell_type": "markdown",
      "metadata": {
        "id": "r0NLZmwHv5tx"
      },
      "source": [
        "**Q3.7**\n",
        "\n",
        "Implement the PDF (Partial Dependence Function) for univariate analysis of the trained NN model.\n"
      ]
    },
    {
      "cell_type": "code",
      "execution_count": null,
      "metadata": {
        "id": "nyRSmdVD9LF8"
      },
      "outputs": [],
      "source": [
        "def PDF(X, model, feature):\n",
        "  \"\"\"\n",
        "  Input   Dataset 'X', Model 'model', feature_name 'feature'\n",
        "  Output  x_values: independent variable values\n",
        "          f_values: corresponding output per x value\n",
        "  \"\"\"\n",
        "  # Note: uncomment the lines below and complete the right hand side (where you see '..' to set them to suitable values, respective explanations are provided for each variable\n",
        "  # num_samples = ..  # set the number of samples/steps to slice the range of the continuous feature, e.g., 100.\n",
        "  # min_val = ..      # minimum value of the given feature\n",
        "  # max_val = ..      # maximum value of the given feature\n",
        "  # step_size = ..    # see the algorithm in corresponsing lecture slides to calculate the step size as a function of the above variables\n",
        "  # x_values = ..     # x_values at which we will calculate the partial function of the given feature\n",
        "  # f_values = ..     # the calculated partial function values corresponding to x_values\n",
        "\n",
        "  # for k in range(num_samples - 1):\n",
        "    # Change part of the data according to the formula of PDF algorithm\n",
        "    # Let the model predict and calculate the f_value for this k\n",
        "\n",
        "  # return x_values, f_values"
      ]
    },
    {
      "cell_type": "markdown",
      "metadata": {
        "id": "-erhkuKc9Lbb"
      },
      "source": [
        "**Q3.8**\n",
        "\n",
        "Calculate and visualize the feature importances obtained by your PDF algorithm with a bar graph. How do we calculate the feature importance given the x_values and y_values of the PDF algorithm?"
      ]
    },
    {
      "cell_type": "code",
      "execution_count": null,
      "metadata": {
        "id": "wGZc06rb-ksR"
      },
      "outputs": [],
      "source": [
        "# First calculate the x_values and f_values for each feature"
      ]
    },
    {
      "cell_type": "code",
      "execution_count": null,
      "metadata": {
        "id": "RwjNZFql9QtZ"
      },
      "outputs": [],
      "source": [
        "from scipy.stats import linregress\n",
        "\n",
        "# Fit a linear model per feature, what is the output of this linear model?"
      ]
    },
    {
      "cell_type": "markdown",
      "metadata": {
        "id": "4I5Z1dRl86BP"
      },
      "source": [
        "**Q3.9**\n",
        "\n",
        "What are the two most important features obtained by the PDF algorithm for the MLP model? How do these two features compare to the top two features from the Linear Model and the EBM?\n",
        "\n",
        "> Answer:\n"
      ]
    },
    {
      "cell_type": "markdown",
      "metadata": {
        "id": "T8slEz838w8_"
      },
      "source": [
        "### **4. Permutation Feature Importance**\n",
        "\n",
        "**Q4.1**\n",
        "\n",
        "Implement the permutation feature importance algorithm using RMSE as the error function. No existing libraries (barring the RMSE from `sklearn` and a function for random sampling / permutation) are allowed to be used, you will implement it yourself with the framework below."
      ]
    },
    {
      "cell_type": "code",
      "execution_count": null,
      "metadata": {
        "id": "S7xUqEYnv4wA"
      },
      "outputs": [],
      "source": [
        "def PFI(X, labels, model, base_rmse):\n",
        "  results = []\n",
        "\n",
        "  for feature in X:\n",
        "    # Create a copy of X_test\n",
        "    # Scramble the values of the given predictor\n",
        "    # Calculate the new RMSE\n",
        "    # Append the increase in MSE to the list of results\n",
        "\n",
        "  # Put the results into a pandas dataframe and rank the predictors by score\n",
        "\n",
        "  # return results_df"
      ]
    },
    {
      "cell_type": "markdown",
      "metadata": {
        "id": "BHemT4b73rwY"
      },
      "source": [
        "**Q4.2**\n",
        "\n",
        "Visualize the feature importances obtained by your PFI algorithm with a bar graph."
      ]
    },
    {
      "cell_type": "code",
      "execution_count": null,
      "metadata": {
        "id": "gxZ9pPBoVsdi"
      },
      "outputs": [],
      "source": [
        "# Bar graph of feature importances"
      ]
    },
    {
      "cell_type": "markdown",
      "metadata": {
        "id": "qmvAN-wT336H"
      },
      "source": [
        "**Q4.3**\n",
        "\n",
        "What are the two most important features obtained by the permutation feature importance algorithm for the MLP model? How do these two features compare to the top two features from the Linear Model and the EBM?\n",
        "\n",
        "> Answer:"
      ]
    },
    {
      "cell_type": "markdown",
      "metadata": {
        "id": "Oq4CuON4vY2y"
      },
      "source": [
        "**Q4.4**\n",
        "\n",
        "Explain two disadvantages of the PFI method.\n",
        "\n",
        "> Answer:"
      ]
    }
  ],
  "metadata": {
    "colab": {
      "provenance": []
    },
    "kernelspec": {
      "display_name": "Python 3",
      "name": "python3"
    },
    "language_info": {
      "codemirror_mode": {
        "name": "ipython",
        "version": 3
      },
      "file_extension": ".py",
      "mimetype": "text/x-python",
      "name": "python",
      "nbconvert_exporter": "python",
      "pygments_lexer": "ipython3",
      "version": "3.10.7"
    }
  },
  "nbformat": 4,
  "nbformat_minor": 0
}
